{
    "metadata": {
        "kernelspec": {
            "name": "python3",
            "display_name": "Python 3 (ipykernel)",
            "language": "python"
        },
        "language_info": {
            "name": "python",
            "version": "3.8.10",
            "mimetype": "text/x-python",
            "codemirror_mode": {
                "name": "ipython",
                "version": 3
            },
            "pygments_lexer": "ipython3",
            "nbconvert_exporter": "python",
            "file_extension": ".py"
        },
        "orig_nbformat": 4,
        "extensions": {
            "azuredatastudio": {
                "version": 1,
                "views": []
            }
        }
    },
    "nbformat_minor": 2,
    "nbformat": 4,
    "cells": [
        {
            "cell_type": "markdown",
            "source": [
                "## **Douglas Barley, DATA618 Quantitative Finance**\n",
                "\n",
                "### **Correlation of Two Datasets**\n",
                "\n",
                "**September 6, 2022**"
            ],
            "metadata": {
                "azdata_cell_guid": "87ebf48e-75bb-4a8e-ba6e-76facf15ccce"
            },
            "attachments": {}
        },
        {
            "cell_type": "code",
            "source": [
                "import pandas as pd\n",
                "import datetime as dt\n",
                "import numpy as np\n",
                "import scipy.stats\n",
                "import matplotlib.pyplot as plt"
            ],
            "metadata": {
                "extensions": {
                    "azuredatastudio": {
                        "views": []
                    }
                },
                "azdata_cell_guid": "37dc7cf8-72ab-46d4-b8e2-6c1bc6921889"
            },
            "outputs": [],
            "execution_count": 41
        },
        {
            "cell_type": "markdown",
            "source": [
                "### **GDP v Fed Funds Effective Rate**"
            ],
            "metadata": {
                "azdata_cell_guid": "19c25d5d-8506-43a1-b87c-0db0a07a7496"
            },
            "attachments": {}
        },
        {
            "cell_type": "code",
            "source": [
                "# get the GDP data\r\n",
                "gdp = pd.read_csv(\"https://raw.githubusercontent.com/douglasbarley/DATA618/main/WeeklyData/Week2/united-states-gdp-growth-rate.csv\")\r\n",
                "gdp['year'] = gdp['date'].str[6:].astype(int)\r\n",
                "gdp['GDP Growth Rate'] = gdp.iloc[:,1] / 100\r\n",
                "gdp.set_index('year')\r\n",
                "gdp = pd.DataFrame(gdp, columns = ['year','GDP Growth Rate'])\r\n",
                "gdp.head(100)"
            ],
            "metadata": {
                "azdata_cell_guid": "65ffca1c-95f0-4d7f-98bb-c57e662d3b22"
            },
            "outputs": [
                {
                    "data": {
                        "text/plain": "    year  GDP Growth Rate\n0   1961         0.023000\n1   1962         0.061000\n2   1963         0.044000\n3   1964         0.058000\n4   1965         0.064000\n..   ...              ...\n56  2017         0.022557\n57  2018         0.029189\n58  2019         0.022889\n59  2020        -0.034046\n60  2021         0.056711\n\n[61 rows x 2 columns]",
                        "text/html": "<div>\n<style scoped>\n    .dataframe tbody tr th:only-of-type {\n        vertical-align: middle;\n    }\n\n    .dataframe tbody tr th {\n        vertical-align: top;\n    }\n\n    .dataframe thead th {\n        text-align: right;\n    }\n</style>\n<table border=\"1\" class=\"dataframe\">\n  <thead>\n    <tr style=\"text-align: right;\">\n      <th></th>\n      <th>year</th>\n      <th>GDP Growth Rate</th>\n    </tr>\n  </thead>\n  <tbody>\n    <tr>\n      <th>0</th>\n      <td>1961</td>\n      <td>0.023000</td>\n    </tr>\n    <tr>\n      <th>1</th>\n      <td>1962</td>\n      <td>0.061000</td>\n    </tr>\n    <tr>\n      <th>2</th>\n      <td>1963</td>\n      <td>0.044000</td>\n    </tr>\n    <tr>\n      <th>3</th>\n      <td>1964</td>\n      <td>0.058000</td>\n    </tr>\n    <tr>\n      <th>4</th>\n      <td>1965</td>\n      <td>0.064000</td>\n    </tr>\n    <tr>\n      <th>...</th>\n      <td>...</td>\n      <td>...</td>\n    </tr>\n    <tr>\n      <th>56</th>\n      <td>2017</td>\n      <td>0.022557</td>\n    </tr>\n    <tr>\n      <th>57</th>\n      <td>2018</td>\n      <td>0.029189</td>\n    </tr>\n    <tr>\n      <th>58</th>\n      <td>2019</td>\n      <td>0.022889</td>\n    </tr>\n    <tr>\n      <th>59</th>\n      <td>2020</td>\n      <td>-0.034046</td>\n    </tr>\n    <tr>\n      <th>60</th>\n      <td>2021</td>\n      <td>0.056711</td>\n    </tr>\n  </tbody>\n</table>\n<p>61 rows × 2 columns</p>\n</div>"
                    },
                    "metadata": {},
                    "execution_count": 42,
                    "output_type": "execute_result"
                }
            ],
            "execution_count": 42
        },
        {
            "cell_type": "code",
            "source": [
                "# get the fed funds effective rate data\r\n",
                "fed = pd.read_csv(\"https://raw.githubusercontent.com/douglasbarley/DATA618/main/WeeklyData/Week2/FEDFUNDS.csv\")\r\n",
                "fed['year'] = fed['DATE'].str[:4].astype(int)\r\n",
                "fed = pd.DataFrame(fed, columns = ['year','FEDFUNDS'])\r\n",
                "fed = fed.groupby('year', as_index=False).agg(avg_FedFunds=pd.NamedAgg(column='FEDFUNDS',aggfunc='mean'))\r\n",
                "fed.set_index('year')\r\n",
                "fed.head(100)"
            ],
            "metadata": {
                "azdata_cell_guid": "60e8cbff-7012-4b65-8707-2713e94fde00",
                "tags": []
            },
            "outputs": [
                {
                    "data": {
                        "text/plain": "    year  avg_FedFunds\n0   1954      1.008333\n1   1955      1.785000\n2   1956      2.728333\n3   1957      3.105000\n4   1958      1.572500\n..   ...           ...\n64  2018      1.831667\n65  2019      2.158333\n66  2020      0.375833\n67  2021      0.080000\n68  2022      0.835000\n\n[69 rows x 2 columns]",
                        "text/html": "<div>\n<style scoped>\n    .dataframe tbody tr th:only-of-type {\n        vertical-align: middle;\n    }\n\n    .dataframe tbody tr th {\n        vertical-align: top;\n    }\n\n    .dataframe thead th {\n        text-align: right;\n    }\n</style>\n<table border=\"1\" class=\"dataframe\">\n  <thead>\n    <tr style=\"text-align: right;\">\n      <th></th>\n      <th>year</th>\n      <th>avg_FedFunds</th>\n    </tr>\n  </thead>\n  <tbody>\n    <tr>\n      <th>0</th>\n      <td>1954</td>\n      <td>1.008333</td>\n    </tr>\n    <tr>\n      <th>1</th>\n      <td>1955</td>\n      <td>1.785000</td>\n    </tr>\n    <tr>\n      <th>2</th>\n      <td>1956</td>\n      <td>2.728333</td>\n    </tr>\n    <tr>\n      <th>3</th>\n      <td>1957</td>\n      <td>3.105000</td>\n    </tr>\n    <tr>\n      <th>4</th>\n      <td>1958</td>\n      <td>1.572500</td>\n    </tr>\n    <tr>\n      <th>...</th>\n      <td>...</td>\n      <td>...</td>\n    </tr>\n    <tr>\n      <th>64</th>\n      <td>2018</td>\n      <td>1.831667</td>\n    </tr>\n    <tr>\n      <th>65</th>\n      <td>2019</td>\n      <td>2.158333</td>\n    </tr>\n    <tr>\n      <th>66</th>\n      <td>2020</td>\n      <td>0.375833</td>\n    </tr>\n    <tr>\n      <th>67</th>\n      <td>2021</td>\n      <td>0.080000</td>\n    </tr>\n    <tr>\n      <th>68</th>\n      <td>2022</td>\n      <td>0.835000</td>\n    </tr>\n  </tbody>\n</table>\n<p>69 rows × 2 columns</p>\n</div>"
                    },
                    "metadata": {},
                    "execution_count": 43,
                    "output_type": "execute_result"
                }
            ],
            "execution_count": 43
        },
        {
            "cell_type": "code",
            "source": [
                "# only use rows that exist in both dataframes for the correlation\r\n",
                "# the date range overlap is 1961 to 2021\r\n",
                "# gdp only contains the above range, so we modify annualfed to match\r\n",
                "fed_limit = fed.loc[(fed['year'] > 1960) & (fed['year'] < 2022)]\r\n",
                "fed_limit.reset_index(drop=True)\r\n",
                ""
            ],
            "metadata": {
                "azdata_cell_guid": "d552fe44-fc16-4ba9-b452-ba7bf049721e",
                "tags": []
            },
            "outputs": [
                {
                    "data": {
                        "text/plain": "    year  avg_FedFunds\n0   1961      1.955000\n1   1962      2.708333\n2   1963      3.178333\n3   1964      3.496667\n4   1965      4.075000\n..   ...           ...\n56  2017      1.001667\n57  2018      1.831667\n58  2019      2.158333\n59  2020      0.375833\n60  2021      0.080000\n\n[61 rows x 2 columns]",
                        "text/html": "<div>\n<style scoped>\n    .dataframe tbody tr th:only-of-type {\n        vertical-align: middle;\n    }\n\n    .dataframe tbody tr th {\n        vertical-align: top;\n    }\n\n    .dataframe thead th {\n        text-align: right;\n    }\n</style>\n<table border=\"1\" class=\"dataframe\">\n  <thead>\n    <tr style=\"text-align: right;\">\n      <th></th>\n      <th>year</th>\n      <th>avg_FedFunds</th>\n    </tr>\n  </thead>\n  <tbody>\n    <tr>\n      <th>0</th>\n      <td>1961</td>\n      <td>1.955000</td>\n    </tr>\n    <tr>\n      <th>1</th>\n      <td>1962</td>\n      <td>2.708333</td>\n    </tr>\n    <tr>\n      <th>2</th>\n      <td>1963</td>\n      <td>3.178333</td>\n    </tr>\n    <tr>\n      <th>3</th>\n      <td>1964</td>\n      <td>3.496667</td>\n    </tr>\n    <tr>\n      <th>4</th>\n      <td>1965</td>\n      <td>4.075000</td>\n    </tr>\n    <tr>\n      <th>...</th>\n      <td>...</td>\n      <td>...</td>\n    </tr>\n    <tr>\n      <th>56</th>\n      <td>2017</td>\n      <td>1.001667</td>\n    </tr>\n    <tr>\n      <th>57</th>\n      <td>2018</td>\n      <td>1.831667</td>\n    </tr>\n    <tr>\n      <th>58</th>\n      <td>2019</td>\n      <td>2.158333</td>\n    </tr>\n    <tr>\n      <th>59</th>\n      <td>2020</td>\n      <td>0.375833</td>\n    </tr>\n    <tr>\n      <th>60</th>\n      <td>2021</td>\n      <td>0.080000</td>\n    </tr>\n  </tbody>\n</table>\n<p>61 rows × 2 columns</p>\n</div>"
                    },
                    "metadata": {},
                    "execution_count": 44,
                    "output_type": "execute_result"
                }
            ],
            "execution_count": 44
        },
        {
            "cell_type": "code",
            "source": [
                "# find the correlation between the gdp and fed_limit datasets\r\n",
                "gdp['GDP Growth Rate'].corr(fed_limit['avg_FedFunds'])"
            ],
            "metadata": {
                "azdata_cell_guid": "8831a363-dbd3-4680-be47-60eba76817c0"
            },
            "outputs": [
                {
                    "data": {
                        "text/plain": "0.18433209492580302"
                    },
                    "metadata": {},
                    "execution_count": 45,
                    "output_type": "execute_result"
                }
            ],
            "execution_count": 45
        },
        {
            "cell_type": "markdown",
            "source": [
                "Correlation between the GDP and Fed Funds datasets is 0.1843. This indicates a slightly positive but negligible correlation between the datasets."
            ],
            "metadata": {
                "azdata_cell_guid": "d84f104b-21a4-4904-9ff0-d415b17c5e1e"
            },
            "attachments": {}
        },
        {
            "cell_type": "markdown",
            "source": [
                "### **Add the Consumer Price Index (CPI) dataset**"
            ],
            "metadata": {
                "azdata_cell_guid": "008c3db2-0fba-4eec-bd7a-829c4193bcc0"
            },
            "attachments": {}
        },
        {
            "cell_type": "code",
            "source": [
                "# get the consumer price index data\r\n",
                "cpi = pd.read_csv(\"https://raw.githubusercontent.com/douglasbarley/DATA618/main/WeeklyData/Week2/BLS%20CPI%201913-2022.csv\")\r\n",
                "cpi = pd.DataFrame(cpi, columns = ['Year','Avg'])\r\n",
                "cpi.set_index('Year')"
            ],
            "metadata": {
                "azdata_cell_guid": "d1a33886-4e7f-4adb-86e0-f94767f60c40",
                "tags": []
            },
            "outputs": [
                {
                    "data": {
                        "text/plain": "          Avg\nYear         \n1913    9.900\n1914   10.000\n1915   10.100\n1916   10.900\n1917   12.800\n...       ...\n2018  251.107\n2019  255.657\n2020  258.811\n2021  270.970\n2022      NaN\n\n[110 rows x 1 columns]",
                        "text/html": "<div>\n<style scoped>\n    .dataframe tbody tr th:only-of-type {\n        vertical-align: middle;\n    }\n\n    .dataframe tbody tr th {\n        vertical-align: top;\n    }\n\n    .dataframe thead th {\n        text-align: right;\n    }\n</style>\n<table border=\"1\" class=\"dataframe\">\n  <thead>\n    <tr style=\"text-align: right;\">\n      <th></th>\n      <th>Avg</th>\n    </tr>\n    <tr>\n      <th>Year</th>\n      <th></th>\n    </tr>\n  </thead>\n  <tbody>\n    <tr>\n      <th>1913</th>\n      <td>9.900</td>\n    </tr>\n    <tr>\n      <th>1914</th>\n      <td>10.000</td>\n    </tr>\n    <tr>\n      <th>1915</th>\n      <td>10.100</td>\n    </tr>\n    <tr>\n      <th>1916</th>\n      <td>10.900</td>\n    </tr>\n    <tr>\n      <th>1917</th>\n      <td>12.800</td>\n    </tr>\n    <tr>\n      <th>...</th>\n      <td>...</td>\n    </tr>\n    <tr>\n      <th>2018</th>\n      <td>251.107</td>\n    </tr>\n    <tr>\n      <th>2019</th>\n      <td>255.657</td>\n    </tr>\n    <tr>\n      <th>2020</th>\n      <td>258.811</td>\n    </tr>\n    <tr>\n      <th>2021</th>\n      <td>270.970</td>\n    </tr>\n    <tr>\n      <th>2022</th>\n      <td>NaN</td>\n    </tr>\n  </tbody>\n</table>\n<p>110 rows × 1 columns</p>\n</div>"
                    },
                    "metadata": {},
                    "execution_count": 46,
                    "output_type": "execute_result"
                }
            ],
            "execution_count": 46
        },
        {
            "cell_type": "code",
            "source": [
                "# modify cpi to match the year range\r\n",
                "cpi_limit = cpi.loc[(cpi['Year'] > 1960) & (cpi['Year'] < 2022)]\r\n",
                "cpi_limit.head(100)\r\n",
                ""
            ],
            "metadata": {
                "azdata_cell_guid": "afd0f1d2-cda9-425a-abca-86056e8b6708"
            },
            "outputs": [
                {
                    "data": {
                        "text/plain": "     Year      Avg\n48   1961   29.900\n49   1962   30.200\n50   1963   30.600\n51   1964   31.000\n52   1965   31.500\n..    ...      ...\n104  2017  245.120\n105  2018  251.107\n106  2019  255.657\n107  2020  258.811\n108  2021  270.970\n\n[61 rows x 2 columns]",
                        "text/html": "<div>\n<style scoped>\n    .dataframe tbody tr th:only-of-type {\n        vertical-align: middle;\n    }\n\n    .dataframe tbody tr th {\n        vertical-align: top;\n    }\n\n    .dataframe thead th {\n        text-align: right;\n    }\n</style>\n<table border=\"1\" class=\"dataframe\">\n  <thead>\n    <tr style=\"text-align: right;\">\n      <th></th>\n      <th>Year</th>\n      <th>Avg</th>\n    </tr>\n  </thead>\n  <tbody>\n    <tr>\n      <th>48</th>\n      <td>1961</td>\n      <td>29.900</td>\n    </tr>\n    <tr>\n      <th>49</th>\n      <td>1962</td>\n      <td>30.200</td>\n    </tr>\n    <tr>\n      <th>50</th>\n      <td>1963</td>\n      <td>30.600</td>\n    </tr>\n    <tr>\n      <th>51</th>\n      <td>1964</td>\n      <td>31.000</td>\n    </tr>\n    <tr>\n      <th>52</th>\n      <td>1965</td>\n      <td>31.500</td>\n    </tr>\n    <tr>\n      <th>...</th>\n      <td>...</td>\n      <td>...</td>\n    </tr>\n    <tr>\n      <th>104</th>\n      <td>2017</td>\n      <td>245.120</td>\n    </tr>\n    <tr>\n      <th>105</th>\n      <td>2018</td>\n      <td>251.107</td>\n    </tr>\n    <tr>\n      <th>106</th>\n      <td>2019</td>\n      <td>255.657</td>\n    </tr>\n    <tr>\n      <th>107</th>\n      <td>2020</td>\n      <td>258.811</td>\n    </tr>\n    <tr>\n      <th>108</th>\n      <td>2021</td>\n      <td>270.970</td>\n    </tr>\n  </tbody>\n</table>\n<p>61 rows × 2 columns</p>\n</div>"
                    },
                    "metadata": {},
                    "execution_count": 47,
                    "output_type": "execute_result"
                }
            ],
            "execution_count": 47
        },
        {
            "cell_type": "code",
            "source": [
                "# find the correlation between the gdp and cpi_limit datasets\r\n",
                "gdp['GDP Growth Rate'].corr(cpi_limit['Avg'])"
            ],
            "metadata": {
                "azdata_cell_guid": "0ceb7009-ce6a-4033-9ff2-3999464075ce"
            },
            "outputs": [
                {
                    "data": {
                        "text/plain": "0.16941530593536577"
                    },
                    "metadata": {},
                    "execution_count": 48,
                    "output_type": "execute_result"
                }
            ],
            "execution_count": 48
        },
        {
            "cell_type": "markdown",
            "source": [
                "Correlation between the GDP and CPI datasets is 0.1694. This indicates a slightly less positive yet negligible correlation between the datasets than between GDP and Fed Funds."
            ],
            "metadata": {
                "azdata_cell_guid": "148f0729-6f37-4c56-ba74-6feee1ae7ac6"
            },
            "attachments": {}
        },
        {
            "cell_type": "code",
            "source": [
                "# find the correlation between the fed_limit and cpi_limit datasets\r\n",
                "fed_limit['avg_FedFunds'].corr(cpi_limit['Avg'])"
            ],
            "metadata": {
                "azdata_cell_guid": "fcde7c32-104a-43a1-8e7a-f08e381e5b34"
            },
            "outputs": [
                {
                    "data": {
                        "text/plain": "-0.345214447515283"
                    },
                    "metadata": {},
                    "execution_count": 49,
                    "output_type": "execute_result"
                }
            ],
            "execution_count": 49
        },
        {
            "cell_type": "markdown",
            "source": [
                "Correlation between the Fed Funds and CPI datasets is -0.3452. This indicates a low negative correlation between the Fed Funds and CPI datasets."
            ],
            "metadata": {
                "azdata_cell_guid": "70667c59-cb7e-4282-afc2-d1a28529c6cd"
            },
            "attachments": {}
        }
    ]
}